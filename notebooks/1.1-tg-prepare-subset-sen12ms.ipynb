{
 "cells": [
  {
   "cell_type": "markdown",
   "metadata": {},
   "source": [
    "# Sen12MS Generate Subset Per Region (Scene or ROI)  \n",
    "\n",
    "Author: Taeil Goh"
   ]
  },
  {
   "cell_type": "code",
   "execution_count": 1,
   "metadata": {},
   "outputs": [
    {
     "name": "stdout",
     "output_type": "stream",
     "text": [
      "resisc45  sen12ms_small\n"
     ]
    }
   ],
   "source": [
    "!ls /scratch/crguest/data"
   ]
  },
  {
   "cell_type": "markdown",
   "metadata": {
    "jupyter": {
     "source_hidden": true
    },
    "tags": []
   },
   "source": [
    "This notebook is to generate subset of data and visualize them for validation purpose.\n",
    "The goal is to generate smaller set for pre-training while making sure, \n",
    "\n",
    "- positive pairs are collected from s1 and s2 sensor. \n",
    "- negative pairs are does not overwrap writh positive pairs. \n",
    "\n",
    "For these reason, one patch will be selected from each region for simpliication purpose. \n"
   ]
  },
  {
   "cell_type": "code",
   "execution_count": 2,
   "metadata": {},
   "outputs": [
    {
     "data": {
      "text/plain": [
       "['ROIs1158_spring', 'ROIs1868_summer', 'ROIs1970_fall', 'ROIs2017_winter']"
      ]
     },
     "execution_count": 2,
     "metadata": {},
     "output_type": "execute_result"
    }
   ],
   "source": [
    "root = \"/storage/sen12ms_x\"\n",
    "output_dir = \"/scratch/crguest/data/sen12ms_small/\"\n",
    "\n",
    "seasons = !ls $root\n",
    "seasons"
   ]
  },
  {
   "cell_type": "code",
   "execution_count": 3,
   "metadata": {},
   "outputs": [],
   "source": [
    "import pandas as pd\n",
    "import glob\n",
    "import os, sys\n",
    "import shutil "
   ]
  },
  {
   "cell_type": "markdown",
   "metadata": {},
   "source": [
    "## Iterate through files"
   ]
  },
  {
   "cell_type": "code",
   "execution_count": 4,
   "metadata": {},
   "outputs": [],
   "source": [
    "tiles = pd.DataFrame(glob.glob(os.path.join(root,'*','*','*.tif')), columns=[\"path\"])\n",
    "split = tiles[\"path\"].apply(lambda path: os.path.basename(path).split('_'))\n",
    "split = pd.DataFrame.from_records(split, columns=[\"seed\",\"season\",\"sensor\",\"region\",\"tile\"])\n",
    "tiles = tiles.join(split)"
   ]
  },
  {
   "cell_type": "code",
   "execution_count": 5,
   "metadata": {},
   "outputs": [
    {
     "data": {
      "text/html": [
       "<div>\n",
       "<style scoped>\n",
       "    .dataframe tbody tr th:only-of-type {\n",
       "        vertical-align: middle;\n",
       "    }\n",
       "\n",
       "    .dataframe tbody tr th {\n",
       "        vertical-align: top;\n",
       "    }\n",
       "\n",
       "    .dataframe thead th {\n",
       "        text-align: right;\n",
       "    }\n",
       "</style>\n",
       "<table border=\"1\" class=\"dataframe\">\n",
       "  <thead>\n",
       "    <tr style=\"text-align: right;\">\n",
       "      <th></th>\n",
       "      <th>path</th>\n",
       "      <th>seed</th>\n",
       "      <th>season</th>\n",
       "      <th>sensor</th>\n",
       "      <th>region</th>\n",
       "      <th>tile</th>\n",
       "    </tr>\n",
       "  </thead>\n",
       "  <tbody>\n",
       "    <tr>\n",
       "      <th>0</th>\n",
       "      <td>/storage/sen12ms_x/ROIs1970_fall/s1_149/ROIs19...</td>\n",
       "      <td>ROIs1970</td>\n",
       "      <td>fall</td>\n",
       "      <td>s1</td>\n",
       "      <td>149</td>\n",
       "      <td>p404.tif</td>\n",
       "    </tr>\n",
       "    <tr>\n",
       "      <th>1</th>\n",
       "      <td>/storage/sen12ms_x/ROIs1970_fall/s1_149/ROIs19...</td>\n",
       "      <td>ROIs1970</td>\n",
       "      <td>fall</td>\n",
       "      <td>s1</td>\n",
       "      <td>149</td>\n",
       "      <td>p798.tif</td>\n",
       "    </tr>\n",
       "    <tr>\n",
       "      <th>2</th>\n",
       "      <td>/storage/sen12ms_x/ROIs1970_fall/s1_149/ROIs19...</td>\n",
       "      <td>ROIs1970</td>\n",
       "      <td>fall</td>\n",
       "      <td>s1</td>\n",
       "      <td>149</td>\n",
       "      <td>p810.tif</td>\n",
       "    </tr>\n",
       "    <tr>\n",
       "      <th>3</th>\n",
       "      <td>/storage/sen12ms_x/ROIs1970_fall/s1_149/ROIs19...</td>\n",
       "      <td>ROIs1970</td>\n",
       "      <td>fall</td>\n",
       "      <td>s1</td>\n",
       "      <td>149</td>\n",
       "      <td>p186.tif</td>\n",
       "    </tr>\n",
       "    <tr>\n",
       "      <th>4</th>\n",
       "      <td>/storage/sen12ms_x/ROIs1970_fall/s1_149/ROIs19...</td>\n",
       "      <td>ROIs1970</td>\n",
       "      <td>fall</td>\n",
       "      <td>s1</td>\n",
       "      <td>149</td>\n",
       "      <td>p510.tif</td>\n",
       "    </tr>\n",
       "  </tbody>\n",
       "</table>\n",
       "</div>"
      ],
      "text/plain": [
       "                                                path      seed season sensor  \\\n",
       "0  /storage/sen12ms_x/ROIs1970_fall/s1_149/ROIs19...  ROIs1970   fall     s1   \n",
       "1  /storage/sen12ms_x/ROIs1970_fall/s1_149/ROIs19...  ROIs1970   fall     s1   \n",
       "2  /storage/sen12ms_x/ROIs1970_fall/s1_149/ROIs19...  ROIs1970   fall     s1   \n",
       "3  /storage/sen12ms_x/ROIs1970_fall/s1_149/ROIs19...  ROIs1970   fall     s1   \n",
       "4  /storage/sen12ms_x/ROIs1970_fall/s1_149/ROIs19...  ROIs1970   fall     s1   \n",
       "\n",
       "  region      tile  \n",
       "0    149  p404.tif  \n",
       "1    149  p798.tif  \n",
       "2    149  p810.tif  \n",
       "3    149  p186.tif  \n",
       "4    149  p510.tif  "
      ]
     },
     "execution_count": 5,
     "metadata": {},
     "output_type": "execute_result"
    }
   ],
   "source": [
    "tiles.head()"
   ]
  },
  {
   "cell_type": "code",
   "execution_count": 6,
   "metadata": {},
   "outputs": [
    {
     "data": {
      "text/plain": [
       "180662.0"
      ]
     },
     "execution_count": 6,
     "metadata": {},
     "output_type": "execute_result"
    }
   ],
   "source": [
    "# of patches: 180662\n",
    "tiles.shape[0]/3"
   ]
  },
  {
   "cell_type": "markdown",
   "metadata": {},
   "source": [
    "`tiles` dataframe contains the path. "
   ]
  },
  {
   "cell_type": "code",
   "execution_count": 7,
   "metadata": {},
   "outputs": [
    {
     "name": "stdout",
     "output_type": "stream",
     "text": [
      "sampled 56 patches from ROIs1158 spring\n",
      "sampled 65 patches from ROIs1868 summer\n",
      "sampled 85 patches from ROIs1970 fall\n",
      "sampled 46 patches from ROIs2017 winter\n"
     ]
    }
   ],
   "source": [
    "seed_seasons = [('ROIs1158', 'spring'), ('ROIs1868', 'summer'), ('ROIs1970', 'fall'), ('ROIs2017', 'winter')]\n",
    "\n",
    "sub_datasets = []\n",
    "for seed_season in seed_seasons:\n",
    "    temp_df = tiles[(tiles[\"seed\"] == seed_season[0]) & (tiles[\"season\"] == seed_season[1]) & (tiles[\"sensor\"] == \"s1\")]\n",
    "    temp_df = temp_df[[\"seed\",\"season\",\"region\",\"tile\"]]\n",
    "    temp_df = temp_df.groupby(\"region\").sample(n=1, random_state=42)\n",
    "    print(f\"sampled {len(temp_df)} patches from {seed_season[0]} {seed_season[1]}\") \n",
    "    \n",
    "    sub_datasets.append(temp_df)\n",
    "\n",
    "sub_datasets_indices = pd.concat(sub_datasets, ignore_index=True)"
   ]
  },
  {
   "cell_type": "code",
   "execution_count": 8,
   "metadata": {},
   "outputs": [],
   "source": [
    "final_df = pd.merge(sub_datasets_indices, tiles, how='left', left_on=[\"seed\", \"season\", \"region\", \"tile\"], right_on=[\"seed\", \"season\", \"region\", \"tile\"])"
   ]
  },
  {
   "cell_type": "code",
   "execution_count": 24,
   "metadata": {
    "tags": []
   },
   "outputs": [],
   "source": [
    "from pathlib import Path\n",
    "\n",
    "for i in final_df.index:\n",
    "    try:\n",
    "        tile = final_df.tile[i].split(\".\")[0]\n",
    "        sub_dir = os.path.join(output_dir, f\"{tile}_{final_df.season[i]}\")\n",
    "        if not os.path.exists(sub_dir):\n",
    "            os.makedirs(sub_dir)\n",
    "        \n",
    "        shutil.copy(final_df.path[i], sub_dir)\n",
    "    except IOError as e:\n",
    "        print(\"Unable to copy file. %s\" % e)\n",
    "    except:\n",
    "        print(\"Unexpected error:\", sys.exc_info())"
   ]
  },
  {
   "cell_type": "code",
   "execution_count": 10,
   "metadata": {},
   "outputs": [
    {
     "data": {
      "text/plain": [
       "756"
      ]
     },
     "execution_count": 10,
     "metadata": {},
     "output_type": "execute_result"
    }
   ],
   "source": [
    "len(final_df)"
   ]
  },
  {
   "cell_type": "code",
   "execution_count": 13,
   "metadata": {},
   "outputs": [
    {
     "data": {
      "text/plain": [
       "2.953125"
      ]
     },
     "execution_count": 13,
     "metadata": {},
     "output_type": "execute_result"
    }
   ],
   "source": [
    "756 / 256"
   ]
  },
  {
   "cell_type": "code",
   "execution_count": 19,
   "metadata": {},
   "outputs": [
    {
     "data": {
      "image/png": "[encoded data removed]",
      "text/plain": [
       "<Figure size 432x288 with 1 Axes>"
      ]
     },
     "metadata": {
      "needs_background": "light"
     },
     "output_type": "display_data"
    },
    {
     "data": {
      "text/plain": [
       "<AxesSubplot:>"
      ]
     },
     "execution_count": 19,
     "metadata": {},
     "output_type": "execute_result"
    }
   ],
   "source": [
    "import rasterio\n",
    "from rasterio.plot import show\n",
    "\n",
    "sample = \"/scratch/crguest/data/sen12ms_small/p291.tif_spring/ROIs1158_spring_s2_121_p291.tif\"\n",
    "img = rasterio.open(sample)\n",
    "show(img)"
   ]
  },
  {
   "cell_type": "code",
   "execution_count": null,
   "metadata": {},
   "outputs": [],
   "source": []
  }
 ],
 "metadata": {
  "kernelspec": {
   "display_name": "Python 3",
   "language": "python",
   "name": "python3"
  },
  "language_info": {
   "codemirror_mode": {
    "name": "ipython",
    "version": 3
   },
   "file_extension": ".py",
   "mimetype": "text/x-python",
   "name": "python",
   "nbconvert_exporter": "python",
   "pygments_lexer": "ipython3",
   "version": "3.7.9"
  }
 },
 "nbformat": 4,
 "nbformat_minor": 4
}
